{
 "cells": [
  {
   "cell_type": "markdown",
   "id": "55d52cc6",
   "metadata": {
    "vscode": {
     "languageId": "plaintext"
    }
   },
   "source": [
    "# Computational Theory Notebook\n",
    "Welcome to my notebook for computational theory. In this document, I will provide the explanations of my solutions to the 5 problems on the Secure Hash Standard"
   ]
  },
  {
   "cell_type": "markdown",
   "id": "6e8e99da",
   "metadata": {},
   "source": [
    "## Problem 1: Binary Words and Operations\n"
   ]
  },
  {
   "cell_type": "markdown",
   "id": "f84ac023",
   "metadata": {},
   "source": [
    "### Parity Function Implementation"
   ]
  },
  {
   "cell_type": "code",
   "execution_count": 37,
   "id": "42898511",
   "metadata": {},
   "outputs": [
    {
     "name": "stdout",
     "output_type": "stream",
     "text": [
      "0\n"
     ]
    }
   ],
   "source": [
    "import numpy as np\n",
    "#Parity Function takes in 3 Integers and XOR's them using the \"^\" operator\n",
    "def parity(x,y,z):\n",
    "    #All variables are 32 bit signed integers\n",
    "    result = np.int32(x)^np.int32(y)^np.int32(z)\n",
    "    return result\n",
    "\n",
    "#Prints the parity of 3,2,1\n",
    "print(parity(3,2,1))"
   ]
  },
  {
   "cell_type": "markdown",
   "id": "ddf9acba",
   "metadata": {},
   "source": [
    "### Ch Function Implementation"
   ]
  },
  {
   "cell_type": "code",
   "execution_count": 22,
   "id": "00135e62",
   "metadata": {},
   "outputs": [
    {
     "name": "stdout",
     "output_type": "stream",
     "text": [
      "2\n"
     ]
    }
   ],
   "source": [
    "#The ch function is passed x,y,z and computes the XOR of AND(x,y) and the AND of NOT X and Z\n",
    "def ch(x,y,z):\n",
    "    #32 bit inetegrs\n",
    "    x=np.int32(x)\n",
    "    y=np.int32(y)\n",
    "    z=np.int32(z)\n",
    "    \n",
    "    ##calcualtes result\n",
    "    result = np.bitwise_xor(np.bitwise_and(x,y),np.bitwise_and(np.bitwise_not(x),z))\n",
    "\n",
    "    return result\n",
    "\n",
    "print(ch(3,2,1))"
   ]
  },
  {
   "cell_type": "markdown",
   "id": "62a7885c",
   "metadata": {},
   "source": [
    "### Maj Function Implementation"
   ]
  },
  {
   "cell_type": "code",
   "execution_count": 23,
   "id": "82faf320",
   "metadata": {},
   "outputs": [
    {
     "name": "stdout",
     "output_type": "stream",
     "text": [
      "3\n"
     ]
    }
   ],
   "source": [
    "def maj(x,y,z):\n",
    "     #32 bit inetegrs\n",
    "    x=np.int32(x)\n",
    "    y=np.int32(y)\n",
    "    z=np.int32(z)\n",
    "\n",
    "    result = np.bitwise_xor(np.bitwise_xor(np.bitwise_and(x,y),np.bitwise_and(x,z)),np.bitwise_and(y,z))\n",
    "\n",
    "    return result\n",
    "print(maj(3,2,1))"
   ]
  },
  {
   "cell_type": "markdown",
   "id": "cedeb97d",
   "metadata": {},
   "source": [
    "### Sigma0(x) Function Implementation"
   ]
  },
  {
   "cell_type": "code",
   "execution_count": null,
   "id": "8e99dfb9",
   "metadata": {},
   "outputs": [
    {
     "name": "stdout",
     "output_type": "stream",
     "text": [
      "1076368385\n"
     ]
    }
   ],
   "source": [
    "#ROTR function to rotate right the 32bit integer by n\n",
    "def rotr(x,n,bits=32):\n",
    "    # SHA-256 uses unsigned 32-bit \n",
    "    x=np.uint32(x)\n",
    "    #Check if n is within the boundary(>=0 and <=bits length)\n",
    "    if(n>=0 and n<=bits):\n",
    "        x=(x>>n)|(x << (bits - n))\n",
    "\n",
    "    return x\n",
    "#Function Sigma0 calculates x by getting XOR of XOR(rotr(x,2),(x,13)) and XOR of rotr(x,22)\n",
    "def Sigma0(x):\n",
    "    x=np.uint32(x)\n",
    "\n",
    "    result = np.bitwise_xor(np.bitwise_xor(rotr(x,2),rotr(x,13)),rotr(x,22)) \n",
    "\n",
    "    return result\n",
    "\n",
    "print(Sigma0(5))\n"
   ]
  },
  {
   "cell_type": "markdown",
   "id": "f5e15f49",
   "metadata": {},
   "source": [
    "### Sigma1(x) Function Implementation"
   ]
  },
  {
   "cell_type": "code",
   "execution_count": null,
   "id": "729779ed",
   "metadata": {},
   "outputs": [
    {
     "name": "stdout",
     "output_type": "stream",
     "text": [
      "346030720\n"
     ]
    }
   ],
   "source": [
    "#Function Sigma1 calculates x by getting XOR of XOR(rotr(x,6),(x,11)) and XOR of rotr(x,25)\n",
    "def Sigma1(x):\n",
    "    x=np.uint32(x)\n",
    "\n",
    "    result = np.bitwise_xor(np.bitwise_xor(rotr(x,6),rotr(x,11)),rotr(x,25)) \n",
    "\n",
    "    return result\n",
    "\n",
    "print(Sigma1(5))"
   ]
  },
  {
   "cell_type": "markdown",
   "id": "f468c53d",
   "metadata": {},
   "source": [
    "### sigma0(x) Function Implementation"
   ]
  },
  {
   "cell_type": "code",
   "execution_count": null,
   "id": "b202677d",
   "metadata": {},
   "outputs": [
    {
     "name": "stdout",
     "output_type": "stream",
     "text": [
      "167854080\n"
     ]
    }
   ],
   "source": [
    "#Function sigma0 calculates x by getting XOR of XOR(rotr(x,7),(x,17)) and right Shift of (x,3)\n",
    "def sigma0(x):\n",
    "    x=np.uint32(x)\n",
    "\n",
    "    result = np.bitwise_xor(np.bitwise_xor(rotr(x,7),rotr(x,18)),np.bitwise_right_shift(3,x)) \n",
    "\n",
    "    return result\n",
    "\n",
    "print(sigma0(5))"
   ]
  },
  {
   "cell_type": "markdown",
   "id": "2be6fe70",
   "metadata": {},
   "source": [
    "### sigma1(x) Function Implementation"
   ]
  },
  {
   "cell_type": "code",
   "execution_count": null,
   "id": "398845ce",
   "metadata": {},
   "outputs": [
    {
     "name": "stdout",
     "output_type": "stream",
     "text": [
      "139264\n"
     ]
    }
   ],
   "source": [
    "#Function sigma1 calculates x by getting XOR of XOR(rotr(x,17),(x,19)) and right Shift of (x,10)\n",
    "def sigma1(x):\n",
    "    x=np.uint32(x)\n",
    "\n",
    "    result = np.bitwise_xor(np.bitwise_xor(rotr(x,17),rotr(x,19)),np.bitwise_right_shift(10,x)) \n",
    "\n",
    "    return result\n",
    "\n",
    "print(sigma1(5))"
   ]
  },
  {
   "cell_type": "markdown",
   "id": "f66086b7",
   "metadata": {},
   "source": [
    "## Problem 2: Fractional Parts of Cube Roots\n"
   ]
  },
  {
   "cell_type": "markdown",
   "id": "4cab5d15",
   "metadata": {},
   "source": [
    "Function to generate n prime numbers"
   ]
  },
  {
   "cell_type": "code",
   "execution_count": null,
   "id": "cc672324",
   "metadata": {},
   "outputs": [
    {
     "name": "stdout",
     "output_type": "stream",
     "text": [
      "[2, 3, 5, 7, 11, 13, 17, 19, 23, 29]\n"
     ]
    }
   ],
   "source": [
    "def primes(n):\n",
    "\n",
    "    if n <= 0:\n",
    "        return []\n",
    "    \n",
    "    primes_list = []\n",
    "    num = 2  # The first prime number\n",
    "    \n",
    "    while len(primes_list) < n:\n",
    "        # Check if num is prime\n",
    "        for p in primes_list:\n",
    "            if num % p == 0:\n",
    "                break\n",
    "        else:\n",
    "            primes_list.append(num)\n",
    "            \n",
    "        num += 1\n",
    "    \n",
    "    return primes_list\n",
    "\n",
    "print(primes(10))"
   ]
  },
  {
   "cell_type": "markdown",
   "id": "e46a0ef6",
   "metadata": {},
   "source": [
    "Get the cube root of the first 64 prime numbers"
   ]
  },
  {
   "cell_type": "code",
   "execution_count": 16,
   "id": "4c1f87bf",
   "metadata": {},
   "outputs": [
    {
     "name": "stdout",
     "output_type": "stream",
     "text": [
      "[1.2598919398737178, 1.442196755504422, 1.7098842124667966, 1.9128071070563357, 2.2238023352951863, 2.351133661168047, 2.5710387691473686, 2.668139763379693, 2.8435697644349163, 3.0719719983839506, 3.1410210909384517, 3.3318207964636257, 3.447790426692538, 3.5029588552132735, 3.6083629594214677, 3.7557886687495388, 3.8924673238754584, 3.9359578052787065, 4.060978888291939, 4.140229425204641, 4.178741529609572, 4.2902155190860505, 4.361428208937753, 4.464077124983148, 4.594000298004846, 4.6562931409030215, 4.686824019747859, 4.74671998727167, 4.776109242968023, 4.833826354699089, 5.0257141131440735, 5.0779278144095175, 5.154291365650771, 5.179249501593537, 5.300574992219728, 5.324183516531676, 5.393781559317268, 5.461628153566258, 5.5059390541925435, 5.571097590331561, 5.6347663867303845, 5.655672707646988, 5.757957053414441, 5.77798288511529, 5.8176232543166195, 5.837242426495272, 5.95227985983879, 6.063034100457577, 6.099067196177271, 6.116925149935484, 6.15233150557629, 6.204689033062062, 6.2219466120904405, 6.30683183826637, 6.3566852799760545, 6.405768669025843, 6.45411106907779, 6.470065311656619, 6.517461989964286, 6.548680711635741, 6.564179053636708, 6.6405947521591, 6.744709058076817, 6.773872807379618]\n"
     ]
    }
   ],
   "source": [
    "def cubeRoots(n):\n",
    "    \n",
    "    cubeRoots_List = []\n",
    "    result=0\n",
    "    \n",
    "    for p in primes(n):\n",
    "        result = (p**0.3333)\n",
    "        cubeRoots_List.append(result)\n",
    "    \n",
    "    return cubeRoots_List\n",
    "        \n",
    "print(cubeRoots(64))"
   ]
  },
  {
   "cell_type": "markdown",
   "id": "e0981744",
   "metadata": {},
   "source": [
    "Extract first 32 bits of fractional part as binary"
   ]
  },
  {
   "cell_type": "code",
   "execution_count": 28,
   "id": "17d72814",
   "metadata": {},
   "outputs": [
    {
     "name": "stdout",
     "output_type": "stream",
     "text": [
      "['01000010100010000100011100110110', '01110001001100111100111001111011', '10110101101110101111100011000100', '11101001101011011011101000000000', '00111001010010110001110000011110', '01011001111000111110010101000111', '10010010001011111001100011000110', '10101011000010110011010100100000', '11010111111101000011000000100110', '00010010011011001100000111000011', '00100100000110011111010101001101', '01010100111100100011010100101100', '01110010101000100110010010110110', '10000000110000011110100101011010', '10011011101111011010110011000110', '11000001011110110101110110111110', '11100100011110001011110100010000', '11101111100110101110111001000100', '00001111100111000100111111111010', '00100011111001100001001101011011', '00101101110000100000000101000000', '01001010010010111001000001110011', '01011100100001101000111100100001', '01110110110011011100001000101010', '10011000000100000110011101001101', '10101000000000101101001111001000', '10101111110100111011001011101110', '10111111001010010000101010000100', '11000110101011110001100001101000', '11010101011101011010010011011011', '00000110100101010011001100111010', '00010011111100110001001111000110', '00100111011111111010001110010001', '00101101111000110100101110011011', '01001100111100100111101110010001', '01010010111111011011000011100001', '01100100110011101101111001000111', '01110110001011010100001100111110', '10000001100001010011100011001011', '10010010001100110111001110100001', '10100010100000000000110011000111', '10100111110110100010101010100100', '11000010000010010111100100110100', '11000111001010011110001011101000', '11010001010011111100000111110001', '11010110010101011000010100001000', '11110011110010001001110011100110', '00010000001000110000000010110111', '00011001010111000111011110111111', '00011101111011101100111001111111', '00100110111111110011001010010010', '00110100011001101000000000011110', '00111000110100010111111001000000', '01001110100011001000100000000110', '01011011010011111011100111111100', '01100111111000000111010010011011', '01110100010000001001111101111110', '01111000010101100011001101000100', '10000100011110000110001110010011', '10001100011101100101011011010000', '10010000011011100000100111011000', '10100011111111100000010010000110', '10111110101001010100000010111001', '11000110000111001000011100111110']\n"
     ]
    }
   ],
   "source": [
    "import numpy as np\n",
    "\n",
    "def fraction_to_binary(fraction, bits=32):\n",
    "    \"\"\"Convert fractional part to binary string with given bit length.\"\"\"\n",
    "    binary = ''\n",
    "    frac = fraction\n",
    "    for _ in range(bits):\n",
    "        frac *= 2\n",
    "        if frac >= 1:\n",
    "            binary += '1'\n",
    "            frac -= 1\n",
    "        else:\n",
    "            binary += '0'\n",
    "    return binary\n",
    "\n",
    "def extractBitsFromFraction():\n",
    "    \"\"\"For each cube root of the first 64 primes, extract first 32 bits of fractional part.\"\"\"\n",
    "    bits_list = []\n",
    "    \n",
    "    for c in cubeRoots(64):\n",
    "        fraction = c % 1  # extract fractional part\n",
    "        binary_fraction = fraction_to_binary(fraction, 32)\n",
    "        bits_list.append(binary_fraction)\n",
    "    \n",
    "    return bits_list\n",
    "\n",
    "# Example usage\n",
    "print(extractBitsFromFraction())"
   ]
  },
  {
   "cell_type": "markdown",
   "id": "109b767c",
   "metadata": {},
   "source": [
    "## Problem 3: Padding\n"
   ]
  },
  {
   "cell_type": "markdown",
   "id": "7c620824",
   "metadata": {},
   "source": [
    "## Problem 4: Hashes"
   ]
  },
  {
   "cell_type": "markdown",
   "id": "bfe309d3",
   "metadata": {},
   "source": [
    "## Problem 5: Passwords\n"
   ]
  },
  {
   "cell_type": "markdown",
   "id": "bfd6de0b",
   "metadata": {},
   "source": []
  }
 ],
 "metadata": {
  "kernelspec": {
   "display_name": "Python 3",
   "language": "python",
   "name": "python3"
  },
  "language_info": {
   "codemirror_mode": {
    "name": "ipython",
    "version": 3
   },
   "file_extension": ".py",
   "mimetype": "text/x-python",
   "name": "python",
   "nbconvert_exporter": "python",
   "pygments_lexer": "ipython3",
   "version": "3.12.3"
  }
 },
 "nbformat": 4,
 "nbformat_minor": 5
}

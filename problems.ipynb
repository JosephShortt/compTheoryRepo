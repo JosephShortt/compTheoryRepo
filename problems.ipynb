{
 "cells": [
  {
   "cell_type": "markdown",
   "id": "55d52cc6",
   "metadata": {
    "vscode": {
     "languageId": "plaintext"
    }
   },
   "source": [
    "# Computational Theory Notebook\n",
    "Welcome to my notebook for comutational theory. In this document, I will provide the explanations of my solutions to the 5 problems on the Secure Hash Standard"
   ]
  },
  {
   "cell_type": "markdown",
   "id": "6e8e99da",
   "metadata": {},
   "source": [
    "## Problem 1: Binary Words and Operations\n"
   ]
  },
  {
   "cell_type": "code",
   "execution_count": 5,
   "id": "42898511",
   "metadata": {},
   "outputs": [],
   "source": [
    "import numpy as np\n",
    "def parity(x,y,z):\n",
    "    \n",
    "    return np.bitwise_xor(x)"
   ]
  },
  {
   "cell_type": "markdown",
   "id": "f66086b7",
   "metadata": {},
   "source": [
    "## Problem 2: Fractional Parts of Cube Roots\n"
   ]
  },
  {
   "cell_type": "markdown",
   "id": "109b767c",
   "metadata": {},
   "source": [
    "## Problem 3: Padding\n"
   ]
  },
  {
   "cell_type": "markdown",
   "id": "7c620824",
   "metadata": {},
   "source": [
    "## Problem 4: Hashes\n"
   ]
  },
  {
   "cell_type": "markdown",
   "id": "bfe309d3",
   "metadata": {},
   "source": [
    "## Problem 3: Passwords\n"
   ]
  }
 ],
 "metadata": {
  "kernelspec": {
   "display_name": "Python 3",
   "language": "python",
   "name": "python3"
  },
  "language_info": {
   "codemirror_mode": {
    "name": "ipython",
    "version": 3
   },
   "file_extension": ".py",
   "mimetype": "text/x-python",
   "name": "python",
   "nbconvert_exporter": "python",
   "pygments_lexer": "ipython3",
   "version": "3.12.3"
  }
 },
 "nbformat": 4,
 "nbformat_minor": 5
}

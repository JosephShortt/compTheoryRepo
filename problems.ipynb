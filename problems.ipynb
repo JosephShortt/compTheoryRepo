{
 "cells": [
  {
   "cell_type": "markdown",
   "id": "55d52cc6",
   "metadata": {
    "vscode": {
     "languageId": "plaintext"
    }
   },
   "source": [
    "# Computational Theory Notebook\n",
    "Welcome to my notebook for comutational theory. In this document, I will provide the explanations of my solutions to the 5 problems on the Secure Hash Standard"
   ]
  },
  {
   "cell_type": "markdown",
   "id": "6e8e99da",
   "metadata": {},
   "source": [
    "## Problem 1: Binary Words and Operations\n"
   ]
  },
  {
   "cell_type": "markdown",
   "id": "f84ac023",
   "metadata": {},
   "source": [
    "### Parity Function Implementation"
   ]
  },
  {
   "cell_type": "code",
   "execution_count": null,
   "id": "42898511",
   "metadata": {},
   "outputs": [
    {
     "name": "stdout",
     "output_type": "stream",
     "text": [
      "0\n"
     ]
    }
   ],
   "source": [
    "import numpy as np\n",
    "#Parity Function takes in 3 Integers and XOR's them using the \"^\" operator\n",
    "def parity(x,y,z):\n",
    "    #All variables are 32 bit signed integers\n",
    "    result = np.int32(x)^np.int32(y)^np.int32(z)\n",
    "    return result\n",
    "\n",
    "#Prints the parity of 3,2,1\n",
    "print(parity(3,2,1))"
   ]
  },
  {
   "cell_type": "markdown",
   "id": "ddf9acba",
   "metadata": {},
   "source": [
    "### Ch Function Implementation"
   ]
  },
  {
   "cell_type": "code",
   "execution_count": 22,
   "id": "00135e62",
   "metadata": {},
   "outputs": [
    {
     "name": "stdout",
     "output_type": "stream",
     "text": [
      "2\n"
     ]
    }
   ],
   "source": [
    "#The ch function is passed x,y,z and computes the XOR of AND(x,y) and the AND of NOT X and Z\n",
    "def ch(x,y,z):\n",
    "    #32 bit inetegrs\n",
    "    x=np.int32(x)\n",
    "    y=np.int32(y)\n",
    "    z=np.int32(z)\n",
    "    \n",
    "    ##calcualtes result\n",
    "    result = np.bitwise_xor(np.bitwise_and(x,y),np.bitwise_and(np.bitwise_not(x),z))\n",
    "\n",
    "    return result\n",
    "\n",
    "print(ch(3,2,1))"
   ]
  },
  {
   "cell_type": "markdown",
   "id": "f66086b7",
   "metadata": {},
   "source": [
    "## Problem 2: Fractional Parts of Cube Roots\n"
   ]
  },
  {
   "cell_type": "markdown",
   "id": "109b767c",
   "metadata": {},
   "source": [
    "## Problem 3: Padding\n"
   ]
  },
  {
   "cell_type": "markdown",
   "id": "7c620824",
   "metadata": {},
   "source": [
    "## Problem 4: Hashes"
   ]
  },
  {
   "cell_type": "markdown",
   "id": "bfe309d3",
   "metadata": {},
   "source": [
    "## Problem 5: Passwords\n"
   ]
  },
  {
   "cell_type": "markdown",
   "id": "bfd6de0b",
   "metadata": {},
   "source": []
  }
 ],
 "metadata": {
  "kernelspec": {
   "display_name": "Python 3",
   "language": "python",
   "name": "python3"
  },
  "language_info": {
   "codemirror_mode": {
    "name": "ipython",
    "version": 3
   },
   "file_extension": ".py",
   "mimetype": "text/x-python",
   "name": "python",
   "nbconvert_exporter": "python",
   "pygments_lexer": "ipython3",
   "version": "3.12.3"
  }
 },
 "nbformat": 4,
 "nbformat_minor": 5
}
